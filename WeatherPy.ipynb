{
 "cells": [
  {
   "cell_type": "markdown",
   "metadata": {},
   "source": [
    "# WeatherPy\n",
    "----\n",
    "\n",
    "#### Note\n",
    "* Instructions have been included for each segment. You do not have to follow them exactly, but they are included to help you think through the steps."
   ]
  },
  {
   "cell_type": "code",
   "execution_count": 40,
   "metadata": {},
   "outputs": [
    {
     "name": "stdout",
     "output_type": "stream",
     "text": [
      "Requirement already satisfied: citipy in c:\\users\\anici\\anaconda3\\lib\\site-packages (0.0.5)\n",
      "Requirement already satisfied: kdtree>=0.12 in c:\\users\\anici\\anaconda3\\lib\\site-packages (from citipy) (0.16)\n"
     ]
    }
   ],
   "source": [
    "!pip install citipy"
   ]
  },
  {
   "cell_type": "code",
   "execution_count": 41,
   "metadata": {
    "scrolled": true
   },
   "outputs": [],
   "source": [
    "\n",
    "# Dependencies and Setup\n",
    "import matplotlib.pyplot as plt\n",
    "import pandas as pd\n",
    "import numpy as np\n",
    "import requests\n",
    "import time\n",
    "from scipy.stats import linregress\n",
    "from pprint import pprint\n",
    "\n",
    "# Import API key\n",
    "from api_keys import weather_api_key\n",
    "\n",
    "# Incorporated citipy to determine city based on latitude and longitude\n",
    "from citipy import citipy\n",
    "\n",
    "base_url = \"http://api.openweathermap.org/data/2.5/weather?\"\n",
    "\n",
    "# Output File (CSV)\n",
    "output_data_file = \"output_data/cities.csv\"\n",
    "\n",
    "\n",
    "# Range of latitudes and longitudes\n",
    "lat_range = (-90, 90)\n",
    "lng_range = (-180, 180)"
   ]
  },
  {
   "cell_type": "markdown",
   "metadata": {},
   "source": [
    "## Generate Cities List"
   ]
  },
  {
   "cell_type": "code",
   "execution_count": 42,
   "metadata": {},
   "outputs": [],
   "source": [
    "# List for holding lat_lngs and cities\n",
    "lat_lngs = []\n",
    "cities = []"
   ]
  },
  {
   "cell_type": "code",
   "execution_count": null,
   "metadata": {},
   "outputs": [],
   "source": []
  },
  {
   "cell_type": "code",
   "execution_count": 43,
   "metadata": {},
   "outputs": [
    {
     "data": {
      "text/plain": [
       "624"
      ]
     },
     "execution_count": 43,
     "metadata": {},
     "output_type": "execute_result"
    }
   ],
   "source": [
    "\n",
    "# Create a set of random lat and lng combinations\n",
    "lats = np.random.uniform(lat_range[0], lat_range[1], size=1500)\n",
    "lngs = np.random.uniform(lng_range[0], lng_range[1], size=1500)\n",
    "lat_lngs = zip(lats, lngs)\n",
    "\n",
    "# Identify nearest city for each lat, lng combination\n",
    "for lat_lng in lat_lngs:\n",
    "    city = citipy.nearest_city(lat_lng[0], lat_lng[1]).city_name\n",
    "    \n",
    "    # If the city is unique, then add it to a our cities list\n",
    "    if city not in cities:\n",
    "        cities.append(city)\n",
    "\n",
    "# Print the city count to confirm sufficient count\n",
    "len(cities)"
   ]
  },
  {
   "cell_type": "code",
   "execution_count": null,
   "metadata": {},
   "outputs": [],
   "source": []
  },
  {
   "cell_type": "markdown",
   "metadata": {},
   "source": [
    "### Perform API Calls\n",
    "* Perform a weather check on each city using a series of successive API calls.\n",
    "* Include a print log of each city as it'sbeing processed (with the city number and city name).\n"
   ]
  },
  {
   "cell_type": "code",
   "execution_count": 44,
   "metadata": {},
   "outputs": [],
   "source": [
    "City_Name=[]\n",
    "Lat=[]\n",
    "Lng=[]\n",
    "Max_Temp=[]\n",
    "Humidity=[]\n",
    "Cloudiness=[]\n",
    "Wind_Speed=[]\n",
    "Country=[]\n",
    "Date=[]"
   ]
  },
  {
   "cell_type": "code",
   "execution_count": 45,
   "metadata": {},
   "outputs": [
    {
     "name": "stdout",
     "output_type": "stream",
     "text": [
      "{'base': 'stations',\n",
      " 'clouds': {'all': 40},\n",
      " 'cod': 200,\n",
      " 'coord': {'lat': 42.3314, 'lon': -83.0458},\n",
      " 'dt': 1619573116,\n",
      " 'id': 4990729,\n",
      " 'main': {'feels_like': 71.71,\n",
      "          'humidity': 36,\n",
      "          'pressure': 1008,\n",
      "          'temp': 73.02,\n",
      "          'temp_max': 78.8,\n",
      "          'temp_min': 68},\n",
      " 'name': 'Detroit',\n",
      " 'sys': {'country': 'US',\n",
      "         'id': 3806,\n",
      "         'sunrise': 1619519548,\n",
      "         'sunset': 1619569608,\n",
      "         'type': 1},\n",
      " 'timezone': -14400,\n",
      " 'visibility': 10000,\n",
      " 'weather': [{'description': 'scattered clouds',\n",
      "              'icon': '03n',\n",
      "              'id': 802,\n",
      "              'main': 'Clouds'}],\n",
      " 'wind': {'deg': 230, 'speed': 8.05}}\n"
     ]
    }
   ],
   "source": [
    "units = \"imperial\"\n",
    "\n",
    "#query_url = f\"{base_url}appid={weather_api_key}&units={units}&q=Detroit\"\n",
    "#response = requests.get(query_url).json()\n",
    "#pprint(response)\n"
   ]
  },
  {
   "cell_type": "code",
   "execution_count": 46,
   "metadata": {},
   "outputs": [
    {
     "name": "stdout",
     "output_type": "stream",
     "text": [
      "Processing Record0 of set 1 | severo-kurilsk\n",
      "Processing Record1 of set 1 | biak\n",
      "Processing Record2 of set 1 | amderma\n",
      "City not found. Skipping...\n",
      "Processing Record3 of set 1 | mahebourg\n",
      "Processing Record4 of set 1 | hermanus\n",
      "Processing Record5 of set 1 | vaini\n",
      "Processing Record6 of set 1 | borama\n",
      "City not found. Skipping...\n",
      "Processing Record7 of set 1 | taolanaro\n",
      "City not found. Skipping...\n",
      "Processing Record8 of set 1 | djibo\n",
      "Processing Record9 of set 1 | barrow\n",
      "Processing Record10 of set 1 | busselton\n",
      "Processing Record11 of set 1 | khatanga\n",
      "Processing Record12 of set 1 | upernavik\n",
      "Processing Record13 of set 1 | villa maria\n",
      "Processing Record14 of set 1 | arraial do cabo\n",
      "Processing Record15 of set 1 | mataura\n",
      "Processing Record16 of set 1 | domanivka\n",
      "Processing Record17 of set 1 | shevchenkove\n",
      "Processing Record18 of set 1 | jamestown\n",
      "Processing Record19 of set 1 | rikitea\n",
      "Processing Record20 of set 1 | chhukha\n",
      "City not found. Skipping...\n",
      "Processing Record21 of set 1 | norman wells\n",
      "Processing Record22 of set 1 | nishihara\n",
      "Processing Record23 of set 1 | nome\n",
      "Processing Record24 of set 1 | atuona\n",
      "Processing Record25 of set 1 | urubicha\n",
      "Processing Record26 of set 1 | nanortalik\n",
      "Processing Record27 of set 1 | lolua\n",
      "City not found. Skipping...\n",
      "Processing Record28 of set 1 | mazyr\n",
      "Processing Record29 of set 1 | tuktoyaktuk\n",
      "Processing Record30 of set 1 | castro\n",
      "Processing Record31 of set 1 | punta arenas\n",
      "Processing Record32 of set 1 | albany\n",
      "Processing Record33 of set 1 | izazi\n",
      "Processing Record34 of set 1 | dikson\n",
      "Processing Record35 of set 1 | port alfred\n",
      "Processing Record36 of set 1 | daru\n",
      "Processing Record37 of set 1 | ushuaia\n",
      "Processing Record38 of set 1 | belushya guba\n",
      "City not found. Skipping...\n",
      "Processing Record39 of set 1 | gwadar\n",
      "Processing Record40 of set 1 | bambous virieux\n",
      "Processing Record41 of set 1 | mackay\n",
      "Processing Record42 of set 1 | geraldton\n",
      "Processing Record43 of set 1 | garowe\n",
      "Processing Record44 of set 1 | lokosovo\n",
      "Processing Record45 of set 1 | longyearbyen\n",
      "Processing Record46 of set 1 | san ramon\n",
      "Processing Record47 of set 1 | port blair\n",
      "Processing Record48 of set 1 | orlik\n",
      "Processing Record49 of set 1 | torbay\n",
      "Processing Record1 of set 2 | puerto ayora\n",
      "Processing Record2 of set 2 | viligili\n",
      "City not found. Skipping...\n",
      "Processing Record3 of set 2 | shimoda\n",
      "Processing Record4 of set 2 | monteagudo\n",
      "Processing Record5 of set 2 | bokaro\n",
      "Processing Record6 of set 2 | yellowknife\n",
      "Processing Record7 of set 2 | linhares\n",
      "Processing Record8 of set 2 | vila\n",
      "Processing Record9 of set 2 | kapaa\n",
      "Processing Record10 of set 2 | guerrero negro\n",
      "Processing Record11 of set 2 | hobart\n",
      "Processing Record12 of set 2 | mecca\n",
      "Processing Record13 of set 2 | georgetown\n",
      "Processing Record14 of set 2 | luis correia\n",
      "Processing Record15 of set 2 | qaanaaq\n",
      "Processing Record16 of set 2 | sao filipe\n",
      "Processing Record17 of set 2 | sao joao da ponte\n",
      "Processing Record18 of set 2 | carnarvon\n",
      "Processing Record19 of set 2 | barentsburg\n",
      "City not found. Skipping...\n",
      "Processing Record20 of set 2 | cheney\n",
      "Processing Record21 of set 2 | faanui\n",
      "Processing Record22 of set 2 | talaya\n",
      "Processing Record23 of set 2 | souillac\n",
      "Processing Record24 of set 2 | dingle\n",
      "Processing Record25 of set 2 | auki\n",
      "Processing Record26 of set 2 | beringovskiy\n",
      "Processing Record27 of set 2 | alappuzha\n",
      "Processing Record28 of set 2 | husavik\n",
      "Processing Record29 of set 2 | agdas\n",
      "Processing Record30 of set 2 | saldanha\n",
      "Processing Record31 of set 2 | butaritari\n",
      "Processing Record32 of set 2 | moron\n",
      "Processing Record33 of set 2 | cape town\n",
      "Processing Record34 of set 2 | rio gallegos\n",
      "Processing Record35 of set 2 | udachnyy\n",
      "Processing Record36 of set 2 | avarua\n",
      "Processing Record37 of set 2 | marsh harbour\n",
      "Processing Record38 of set 2 | cayenne\n",
      "Processing Record39 of set 2 | psygansu\n",
      "Processing Record40 of set 2 | flin flon\n",
      "Processing Record41 of set 2 | tasiilaq\n",
      "Processing Record42 of set 2 | bluff\n",
      "Processing Record43 of set 2 | oranjemund\n",
      "Processing Record44 of set 2 | liku\n",
      "Processing Record45 of set 2 | nouakchott\n",
      "Processing Record46 of set 2 | ituiutaba\n",
      "Processing Record47 of set 2 | lukovetskiy\n",
      "Processing Record48 of set 2 | atar\n",
      "Processing Record49 of set 2 | cabo san lucas\n",
      "Processing Record50 of set 2 | tripoli\n",
      "Processing Record1 of set 3 | surovatikha\n",
      "Processing Record2 of set 3 | fairbanks\n",
      "Processing Record3 of set 3 | hami\n",
      "Processing Record4 of set 3 | parkes\n",
      "Processing Record5 of set 3 | barraute\n",
      "Processing Record6 of set 3 | samarai\n",
      "Processing Record7 of set 3 | nelson bay\n",
      "Processing Record8 of set 3 | meyungs\n",
      "City not found. Skipping...\n",
      "Processing Record9 of set 3 | karasjok\n",
      "Processing Record10 of set 3 | kahului\n",
      "Processing Record11 of set 3 | taonan\n",
      "Processing Record12 of set 3 | ponta delgada\n",
      "Processing Record13 of set 3 | hithadhoo\n",
      "Processing Record14 of set 3 | abaza\n",
      "Processing Record15 of set 3 | kavaratti\n",
      "Processing Record16 of set 3 | teluk nibung\n",
      "Processing Record17 of set 3 | lebu\n",
      "Processing Record18 of set 3 | barth\n",
      "Processing Record19 of set 3 | batavia\n",
      "Processing Record20 of set 3 | balaytigui\n",
      "City not found. Skipping...\n",
      "Processing Record21 of set 3 | cockburn town\n",
      "Processing Record22 of set 3 | umuarama\n",
      "Processing Record23 of set 3 | san cristobal\n",
      "Processing Record24 of set 3 | chuy\n",
      "Processing Record25 of set 3 | mossendjo\n",
      "Processing Record26 of set 3 | alofi\n",
      "Processing Record27 of set 3 | tiksi\n",
      "Processing Record28 of set 3 | copiapo\n",
      "Processing Record29 of set 3 | coahuayana\n",
      "Processing Record30 of set 3 | morgan city\n",
      "Processing Record31 of set 3 | marawi\n",
      "Processing Record32 of set 3 | puksoozero\n",
      "Processing Record33 of set 3 | seoul\n",
      "Processing Record34 of set 3 | beisfjord\n",
      "Processing Record35 of set 3 | clyde river\n",
      "Processing Record36 of set 3 | port lincoln\n",
      "Processing Record37 of set 3 | pak phanang\n",
      "Processing Record38 of set 3 | touros\n",
      "Processing Record39 of set 3 | airai\n",
      "Processing Record40 of set 3 | yakeshi\n",
      "Processing Record41 of set 3 | sao gabriel da cachoeira\n",
      "Processing Record42 of set 3 | sabzevar\n",
      "Processing Record43 of set 3 | fortuna\n",
      "Processing Record44 of set 3 | bengkalis\n",
      "City not found. Skipping...\n",
      "Processing Record45 of set 3 | maceio\n",
      "Processing Record46 of set 3 | zhuhai\n",
      "Processing Record47 of set 3 | comodoro rivadavia\n",
      "Processing Record48 of set 3 | seymchan\n",
      "Processing Record49 of set 3 | amapa\n",
      "Processing Record50 of set 3 | rocky mountain house\n",
      "Processing Record1 of set 4 | rancho palos verdes\n",
      "Processing Record2 of set 4 | thompson\n",
      "Processing Record3 of set 4 | ribeira grande\n",
      "Processing Record4 of set 4 | saint-philippe\n",
      "Processing Record5 of set 4 | half moon bay\n",
      "Processing Record6 of set 4 | bedele\n",
      "Processing Record7 of set 4 | ilulissat\n",
      "Processing Record8 of set 4 | attawapiskat\n",
      "City not found. Skipping...\n",
      "Processing Record9 of set 4 | marrakesh\n",
      "Processing Record10 of set 4 | sao felix do xingu\n",
      "Processing Record11 of set 4 | ibra\n",
      "Processing Record12 of set 4 | east london\n",
      "Processing Record13 of set 4 | talnakh\n",
      "Processing Record14 of set 4 | katsuura\n",
      "Processing Record15 of set 4 | bacuit\n",
      "City not found. Skipping...\n",
      "Processing Record16 of set 4 | hilo\n",
      "Processing Record17 of set 4 | aklavik\n",
      "Processing Record18 of set 4 | zhizdra\n",
      "Processing Record19 of set 4 | chokurdakh\n",
      "Processing Record20 of set 4 | carberry\n",
      "Processing Record21 of set 4 | mount isa\n",
      "Processing Record22 of set 4 | da lat\n",
      "Processing Record23 of set 4 | new norfolk\n",
      "Processing Record24 of set 4 | enshi\n",
      "Processing Record25 of set 4 | guiratinga\n",
      "Processing Record26 of set 4 | ust-maya\n",
      "Processing Record27 of set 4 | kodiak\n",
      "Processing Record28 of set 4 | grand river south east\n",
      "City not found. Skipping...\n",
      "Processing Record29 of set 4 | lobez\n",
      "Processing Record30 of set 4 | marcona\n",
      "City not found. Skipping...\n",
      "Processing Record31 of set 4 | jutai\n",
      "Processing Record32 of set 4 | mar del plata\n",
      "Processing Record33 of set 4 | necochea\n",
      "Processing Record34 of set 4 | muros\n",
      "Processing Record35 of set 4 | ushtobe\n",
      "Processing Record36 of set 4 | moose factory\n",
      "Processing Record37 of set 4 | constitucion\n",
      "Processing Record38 of set 4 | cherskiy\n",
      "Processing Record39 of set 4 | cidreira\n",
      "Processing Record40 of set 4 | indramayu\n",
      "Processing Record41 of set 4 | tahta\n",
      "Processing Record42 of set 4 | lumeje\n",
      "Processing Record43 of set 4 | fukue\n"
     ]
    },
    {
     "name": "stdout",
     "output_type": "stream",
     "text": [
      "Processing Record44 of set 4 | kieta\n",
      "Processing Record45 of set 4 | flinders\n",
      "Processing Record46 of set 4 | burica\n",
      "City not found. Skipping...\n",
      "Processing Record47 of set 4 | bethel\n",
      "Processing Record48 of set 4 | tuban\n",
      "Processing Record49 of set 4 | dongkan\n",
      "Processing Record50 of set 4 | sorong\n",
      "Processing Record1 of set 5 | iracoubo\n",
      "Processing Record2 of set 5 | hasaki\n",
      "Processing Record3 of set 5 | hihifo\n",
      "City not found. Skipping...\n",
      "Processing Record4 of set 5 | bredasdorp\n",
      "Processing Record5 of set 5 | bengkulu\n",
      "Processing Record6 of set 5 | college\n",
      "Processing Record7 of set 5 | mehran\n",
      "Processing Record8 of set 5 | dawson creek\n",
      "Processing Record9 of set 5 | tual\n",
      "Processing Record10 of set 5 | chegutu\n",
      "Processing Record11 of set 5 | eureka\n",
      "Processing Record12 of set 5 | kholodnyy\n",
      "Processing Record13 of set 5 | hambantota\n",
      "Processing Record14 of set 5 | saint george\n",
      "Processing Record15 of set 5 | ketchikan\n",
      "Processing Record16 of set 5 | selma\n",
      "Processing Record17 of set 5 | sitka\n",
      "Processing Record18 of set 5 | lata\n",
      "Processing Record19 of set 5 | tuatapere\n",
      "Processing Record20 of set 5 | oktyabrskiy\n",
      "Processing Record21 of set 5 | san patricio\n",
      "Processing Record22 of set 5 | meulaboh\n",
      "Processing Record23 of set 5 | bago\n",
      "Processing Record24 of set 5 | coolum beach\n",
      "Processing Record25 of set 5 | abeche\n",
      "Processing Record26 of set 5 | killam\n",
      "Processing Record27 of set 5 | pisco\n",
      "Processing Record28 of set 5 | fairview\n",
      "Processing Record29 of set 5 | hokitika\n",
      "Processing Record30 of set 5 | lasa\n",
      "Processing Record31 of set 5 | usogorsk\n",
      "Processing Record32 of set 5 | verkhoturye\n",
      "Processing Record33 of set 5 | panaba\n",
      "Processing Record34 of set 5 | portland\n",
      "Processing Record35 of set 5 | port elizabeth\n",
      "Processing Record36 of set 5 | porto de moz\n",
      "Processing Record37 of set 5 | te anau\n",
      "Processing Record38 of set 5 | alibag\n",
      "Processing Record39 of set 5 | klaksvik\n",
      "Processing Record40 of set 5 | falealupo\n",
      "City not found. Skipping...\n",
      "Processing Record41 of set 5 | coos bay\n",
      "Processing Record42 of set 5 | vila franca do campo\n",
      "Processing Record43 of set 5 | tiznit\n",
      "Processing Record44 of set 5 | turukhansk\n",
      "Processing Record45 of set 5 | mys shmidta\n",
      "City not found. Skipping...\n",
      "Processing Record46 of set 5 | sorland\n",
      "Processing Record47 of set 5 | yulara\n",
      "Processing Record48 of set 5 | bud\n",
      "Processing Record49 of set 5 | kelvington\n",
      "Processing Record50 of set 5 | oil city\n",
      "Processing Record1 of set 6 | juli\n",
      "Processing Record2 of set 6 | coihaique\n",
      "Processing Record3 of set 6 | sao jose da coroa grande\n",
      "Processing Record4 of set 6 | ajmer\n",
      "Processing Record5 of set 6 | riberalta\n",
      "Processing Record6 of set 6 | kamaishi\n",
      "Processing Record7 of set 6 | yanam\n",
      "Processing Record8 of set 6 | ilinge\n",
      "Processing Record9 of set 6 | victoria\n",
      "Processing Record10 of set 6 | haines junction\n",
      "Processing Record11 of set 6 | jiuquan\n",
      "Processing Record12 of set 6 | rosetta\n",
      "Processing Record13 of set 6 | yar-sale\n",
      "Processing Record14 of set 6 | anloga\n",
      "Processing Record15 of set 6 | capitan bado\n",
      "Processing Record16 of set 6 | illoqqortoormiut\n",
      "City not found. Skipping...\n",
      "Processing Record17 of set 6 | ponta do sol\n",
      "Processing Record18 of set 6 | rubiataba\n",
      "Processing Record19 of set 6 | ostashkov\n",
      "Processing Record20 of set 6 | tumannyy\n",
      "City not found. Skipping...\n",
      "Processing Record21 of set 6 | laguna\n",
      "Processing Record22 of set 6 | stromness\n",
      "Processing Record23 of set 6 | kaitangata\n",
      "Processing Record24 of set 6 | rocha\n",
      "Processing Record25 of set 6 | blairmore\n",
      "Processing Record26 of set 6 | atherton\n",
      "Processing Record27 of set 6 | katha\n",
      "City not found. Skipping...\n",
      "Processing Record28 of set 6 | waipawa\n",
      "Processing Record29 of set 6 | port hawkesbury\n",
      "Processing Record30 of set 6 | nizhneyansk\n",
      "City not found. Skipping...\n",
      "Processing Record31 of set 6 | norrtalje\n",
      "Processing Record32 of set 6 | bathsheba\n",
      "Processing Record33 of set 6 | anadyr\n",
      "Processing Record34 of set 6 | calama\n",
      "Processing Record35 of set 6 | livingston\n",
      "Processing Record36 of set 6 | shemysheyka\n",
      "Processing Record37 of set 6 | chesma\n",
      "Processing Record38 of set 6 | rivers\n",
      "Processing Record39 of set 6 | bontang\n",
      "Processing Record40 of set 6 | saskylakh\n",
      "Processing Record41 of set 6 | walvis bay\n",
      "Processing Record42 of set 6 | hamina\n",
      "Processing Record43 of set 6 | casa nova\n",
      "Processing Record44 of set 6 | inhambane\n",
      "Processing Record45 of set 6 | ludza\n",
      "Processing Record46 of set 6 | east retford\n",
      "Processing Record47 of set 6 | lubao\n",
      "Processing Record48 of set 6 | develi\n",
      "Processing Record49 of set 6 | temple\n",
      "Processing Record50 of set 6 | phalaborwa\n",
      "Processing Record1 of set 7 | aden\n",
      "Processing Record2 of set 7 | aleksandrovsk-sakhalinskiy\n",
      "Processing Record3 of set 7 | bonnyville\n",
      "Processing Record4 of set 7 | hammerfest\n",
      "Processing Record5 of set 7 | nikolskoye\n",
      "Processing Record6 of set 7 | saurimo\n",
      "Processing Record7 of set 7 | daxian\n",
      "City not found. Skipping...\n",
      "Processing Record8 of set 7 | xiongyue\n",
      "Processing Record9 of set 7 | saint-augustin\n",
      "Processing Record10 of set 7 | okhotsk\n",
      "Processing Record11 of set 7 | obidos\n",
      "Processing Record12 of set 7 | guane\n",
      "Processing Record13 of set 7 | rayong\n",
      "Processing Record14 of set 7 | ngukurr\n",
      "City not found. Skipping...\n",
      "Processing Record15 of set 7 | sentyabrskiy\n",
      "City not found. Skipping...\n",
      "Processing Record16 of set 7 | boende\n",
      "Processing Record17 of set 7 | ankpa\n",
      "Processing Record18 of set 7 | isangel\n",
      "Processing Record19 of set 7 | bereda\n",
      "Processing Record20 of set 7 | lagoa\n",
      "Processing Record21 of set 7 | jhikargachha\n",
      "City not found. Skipping...\n",
      "Processing Record22 of set 7 | tabiauea\n",
      "City not found. Skipping...\n",
      "Processing Record23 of set 7 | hovd\n",
      "Processing Record24 of set 7 | vysokogornyy\n",
      "Processing Record25 of set 7 | tieli\n",
      "Processing Record26 of set 7 | manyana\n",
      "Processing Record27 of set 7 | mangan\n",
      "Processing Record28 of set 7 | balaipungut\n",
      "Processing Record29 of set 7 | omboue\n",
      "Processing Record30 of set 7 | okulovka\n",
      "Processing Record31 of set 7 | buala\n",
      "Processing Record32 of set 7 | lompoc\n",
      "Processing Record33 of set 7 | los alamos\n",
      "Processing Record34 of set 7 | asau\n",
      "Processing Record35 of set 7 | khudumelapye\n",
      "Processing Record36 of set 7 | southbridge\n",
      "Processing Record37 of set 7 | rochefort\n",
      "Processing Record38 of set 7 | tuggurt\n",
      "City not found. Skipping...\n",
      "Processing Record39 of set 7 | lucmayan\n",
      "City not found. Skipping...\n",
      "Processing Record40 of set 7 | pevek\n",
      "Processing Record41 of set 7 | mae sai\n",
      "Processing Record42 of set 7 | grand centre\n",
      "City not found. Skipping...\n",
      "Processing Record43 of set 7 | merauke\n",
      "Processing Record44 of set 7 | halalo\n",
      "City not found. Skipping...\n",
      "Processing Record45 of set 7 | temaraia\n",
      "City not found. Skipping...\n",
      "Processing Record46 of set 7 | robertsport\n",
      "Processing Record47 of set 7 | garden city\n",
      "Processing Record48 of set 7 | vallenar\n",
      "Processing Record49 of set 7 | mount gambier\n",
      "Processing Record50 of set 7 | kajaani\n",
      "Processing Record1 of set 8 | mehendiganj\n",
      "Processing Record2 of set 8 | kambove\n",
      "Processing Record3 of set 8 | tessalit\n",
      "Processing Record4 of set 8 | tunduru\n",
      "City not found. Skipping...\n",
      "Processing Record5 of set 8 | minyar\n",
      "Processing Record6 of set 8 | huarmey\n",
      "Processing Record7 of set 8 | kruisfontein\n",
      "Processing Record8 of set 8 | bambanglipuro\n",
      "Processing Record9 of set 8 | vicksburg\n",
      "Processing Record10 of set 8 | ugoofaaru\n",
      "Processing Record11 of set 8 | malokakhovka\n",
      "Processing Record12 of set 8 | kolosovka\n",
      "Processing Record13 of set 8 | yuanping\n",
      "Processing Record14 of set 8 | moratuwa\n",
      "Processing Record15 of set 8 | vardo\n",
      "Processing Record16 of set 8 | kuldur\n",
      "Processing Record17 of set 8 | olafsvik\n",
      "Processing Record18 of set 8 | provideniya\n",
      "Processing Record19 of set 8 | samalaeulu\n",
      "City not found. Skipping...\n",
      "Processing Record20 of set 8 | makaha\n",
      "Processing Record21 of set 8 | komatipoort\n",
      "Processing Record22 of set 8 | kachikau\n",
      "City not found. Skipping...\n",
      "Processing Record23 of set 8 | bur gabo\n",
      "City not found. Skipping...\n",
      "Processing Record24 of set 8 | veraval\n",
      "Processing Record25 of set 8 | praia\n",
      "Processing Record26 of set 8 | anuradhapura\n",
      "Processing Record27 of set 8 | shatalovo\n",
      "Processing Record28 of set 8 | la ronge\n",
      "Processing Record29 of set 8 | sorvag\n",
      "City not found. Skipping...\n",
      "Processing Record30 of set 8 | karaul\n",
      "City not found. Skipping...\n",
      "Processing Record31 of set 8 | iqaluit\n"
     ]
    },
    {
     "name": "stdout",
     "output_type": "stream",
     "text": [
      "Processing Record32 of set 8 | makinsk\n",
      "Processing Record33 of set 8 | esperance\n",
      "Processing Record34 of set 8 | lucea\n",
      "Processing Record35 of set 8 | lodja\n",
      "Processing Record36 of set 8 | enid\n",
      "Processing Record37 of set 8 | srednekolymsk\n",
      "Processing Record38 of set 8 | harrison\n",
      "Processing Record39 of set 8 | kaitong\n",
      "Processing Record40 of set 8 | almaznyy\n",
      "Processing Record41 of set 8 | ca mau\n",
      "Processing Record42 of set 8 | shorapur\n",
      "Processing Record43 of set 8 | tromso\n",
      "Processing Record44 of set 8 | arlit\n",
      "Processing Record45 of set 8 | ancud\n",
      "Processing Record46 of set 8 | pontianak\n",
      "Processing Record47 of set 8 | anito\n",
      "Processing Record48 of set 8 | juneau\n",
      "Processing Record49 of set 8 | yima\n",
      "Processing Record50 of set 8 | galesong\n",
      "Processing Record1 of set 9 | kautokeino\n",
      "Processing Record2 of set 9 | novikovo\n",
      "Processing Record3 of set 9 | marzuq\n",
      "Processing Record4 of set 9 | sisimiut\n",
      "Processing Record5 of set 9 | antofagasta\n",
      "Processing Record6 of set 9 | buchanan\n",
      "Processing Record7 of set 9 | askarovo\n",
      "Processing Record8 of set 9 | nipawin\n",
      "Processing Record9 of set 9 | san policarpo\n",
      "Processing Record10 of set 9 | sobolevo\n",
      "Processing Record11 of set 9 | inderborskiy\n",
      "City not found. Skipping...\n",
      "Processing Record12 of set 9 | myitkyina\n",
      "Processing Record13 of set 9 | rio grande\n",
      "Processing Record14 of set 9 | itigi\n",
      "Processing Record15 of set 9 | saint-pierre\n",
      "Processing Record16 of set 9 | sylvan lake\n",
      "Processing Record17 of set 9 | cortez\n",
      "Processing Record18 of set 9 | rumonge\n",
      "Processing Record19 of set 9 | oussouye\n",
      "Processing Record20 of set 9 | tazmalt\n",
      "Processing Record21 of set 9 | nara\n",
      "Processing Record22 of set 9 | felidhoo\n",
      "City not found. Skipping...\n",
      "Processing Record23 of set 9 | skorodnoye\n",
      "Processing Record24 of set 9 | russell\n",
      "Processing Record25 of set 9 | hamilton\n",
      "Processing Record26 of set 9 | san carlos de bariloche\n",
      "Processing Record27 of set 9 | plettenberg bay\n",
      "Processing Record28 of set 9 | gisborne\n",
      "Processing Record29 of set 9 | bilma\n",
      "Processing Record30 of set 9 | ostrov\n",
      "Processing Record31 of set 9 | dehloran\n",
      "Processing Record32 of set 9 | fort nelson\n",
      "Processing Record33 of set 9 | hualmay\n",
      "Processing Record34 of set 9 | lashio\n",
      "Processing Record35 of set 9 | priiskovyy\n",
      "Processing Record36 of set 9 | korla\n",
      "Processing Record37 of set 9 | balgazyn\n",
      "Processing Record38 of set 9 | verkhoyansk\n",
      "Processing Record39 of set 9 | arman\n",
      "Processing Record40 of set 9 | mbandaka\n",
      "Processing Record41 of set 9 | mehamn\n",
      "Processing Record42 of set 9 | taoudenni\n",
      "Processing Record43 of set 9 | gornopravdinsk\n",
      "Processing Record44 of set 9 | manzanillo\n",
      "Processing Record45 of set 9 | port keats\n",
      "Processing Record46 of set 9 | monrovia\n",
      "Processing Record47 of set 9 | nouadhibou\n",
      "Processing Record48 of set 9 | las vegas\n",
      "Processing Record49 of set 9 | sur\n",
      "Processing Record50 of set 9 | haapiti\n",
      "Processing Record1 of set 10 | vanimo\n",
      "Processing Record2 of set 10 | chicama\n",
      "Processing Record3 of set 10 | paka\n",
      "Processing Record4 of set 10 | tsihombe\n",
      "City not found. Skipping...\n",
      "Processing Record5 of set 10 | hwange\n",
      "Processing Record6 of set 10 | acarau\n",
      "Processing Record7 of set 10 | muskegon\n",
      "Processing Record8 of set 10 | yunjinghong\n",
      "City not found. Skipping...\n",
      "Processing Record9 of set 10 | talcahuano\n",
      "Processing Record10 of set 10 | araouane\n",
      "Processing Record11 of set 10 | hirara\n",
      "Processing Record12 of set 10 | durban\n",
      "Processing Record13 of set 10 | coquimbo\n",
      "Processing Record14 of set 10 | faya\n",
      "Processing Record15 of set 10 | sanok\n",
      "Processing Record16 of set 10 | soderhamn\n",
      "Processing Record17 of set 10 | donegal\n",
      "Processing Record18 of set 10 | zahir pir\n",
      "Processing Record19 of set 10 | carutapera\n",
      "Processing Record20 of set 10 | samusu\n",
      "City not found. Skipping...\n",
      "Processing Record21 of set 10 | lorengau\n",
      "Processing Record22 of set 10 | luderitz\n",
      "Processing Record23 of set 10 | pangnirtung\n",
      "Processing Record24 of set 10 | solsvik\n",
      "City not found. Skipping...\n",
      "Processing Record25 of set 10 | upata\n",
      "Processing Record26 of set 10 | kavieng\n",
      "Processing Record27 of set 10 | nicoya\n",
      "Processing Record28 of set 10 | san rafael\n",
      "Processing Record29 of set 10 | padang\n",
      "Processing Record30 of set 10 | bagdarin\n",
      "Processing Record31 of set 10 | ostrovnoy\n",
      "Processing Record32 of set 10 | dhaka\n",
      "Processing Record33 of set 10 | leh\n",
      "Processing Record34 of set 10 | pastavy\n",
      "Processing Record35 of set 10 | simi\n",
      "Processing Record36 of set 10 | minjur\n",
      "Processing Record37 of set 10 | kaeo\n",
      "Processing Record38 of set 10 | kokopo\n",
      "Processing Record39 of set 10 | male\n",
      "Processing Record40 of set 10 | sheridan\n",
      "Processing Record41 of set 10 | aliwal north\n",
      "Processing Record42 of set 10 | berdigestyakh\n",
      "Processing Record43 of set 10 | cap malheureux\n",
      "Processing Record44 of set 10 | port hedland\n",
      "Processing Record45 of set 10 | jackson\n",
      "Processing Record46 of set 10 | mogadishu\n",
      "Processing Record47 of set 10 | malanje\n",
      "Processing Record48 of set 10 | melenki\n",
      "Processing Record49 of set 10 | puerto colombia\n",
      "Processing Record50 of set 10 | misratah\n",
      "Processing Record1 of set 11 | kununurra\n",
      "Processing Record2 of set 11 | karratha\n",
      "Processing Record3 of set 11 | sinegorye\n",
      "Processing Record4 of set 11 | amudat\n",
      "Processing Record5 of set 11 | prado\n",
      "Processing Record6 of set 11 | san pedro\n",
      "Processing Record7 of set 11 | narsaq\n",
      "Processing Record8 of set 11 | pribelskiy\n",
      "City not found. Skipping...\n",
      "Processing Record9 of set 11 | inuvik\n",
      "Processing Record10 of set 11 | houston\n",
      "Processing Record11 of set 11 | ende\n",
      "Processing Record12 of set 11 | kargasok\n",
      "Processing Record13 of set 11 | grand gaube\n",
      "Processing Record14 of set 11 | avera\n",
      "Processing Record15 of set 11 | joaima\n",
      "Processing Record16 of set 11 | vao\n",
      "Processing Record17 of set 11 | jamadoba\n",
      "Processing Record18 of set 11 | tilichiki\n",
      "Processing Record19 of set 11 | sakakah\n",
      "Processing Record20 of set 11 | varhaug\n",
      "Processing Record21 of set 11 | acambay\n",
      "Processing Record22 of set 11 | luocheng\n",
      "Processing Record23 of set 11 | pahalgam\n",
      "Processing Record24 of set 11 | los llanos de aridane\n",
      "Processing Record25 of set 11 | parati\n",
      "Processing Record26 of set 11 | margate\n",
      "Processing Record27 of set 11 | yialos\n",
      "City not found. Skipping...\n",
      "Processing Record28 of set 11 | zhezkazgan\n",
      "Processing Record29 of set 11 | santa maria\n",
      "Processing Record30 of set 11 | concepcion del uruguay\n",
      "Processing Record31 of set 11 | camopi\n",
      "Processing Record32 of set 11 | palabuhanratu\n",
      "City not found. Skipping...\n",
      "Processing Record33 of set 11 | sungaipenuh\n",
      "Processing Record34 of set 11 | noumea\n",
      "Processing Record35 of set 11 | capao da canoa\n",
      "Processing Record36 of set 11 | pala\n",
      "Processing Record37 of set 11 | saleaula\n",
      "City not found. Skipping...\n",
      "Processing Record38 of set 11 | hrodna\n",
      "Processing Record39 of set 11 | louisbourg\n",
      "City not found. Skipping...\n",
      "Processing Record40 of set 11 | epe\n",
      "Processing Record41 of set 11 | versalles\n",
      "Processing Record42 of set 11 | catumbela\n",
      "Processing Record43 of set 11 | vostok\n",
      "Processing Record44 of set 11 | sioux lookout\n",
      "Processing Record45 of set 11 | chute-aux-outardes\n",
      "Processing Record46 of set 11 | kloulklubed\n",
      "Processing Record47 of set 11 | harper\n",
      "Processing Record48 of set 11 | suzu\n",
      "City not found. Skipping...\n",
      "Processing Record49 of set 11 | andenes\n",
      "Processing Record50 of set 11 | port augusta\n",
      "Processing Record1 of set 12 | tawkar\n",
      "City not found. Skipping...\n",
      "Processing Record2 of set 12 | alugan\n",
      "Processing Record3 of set 12 | provins\n",
      "Processing Record4 of set 12 | thinadhoo\n",
      "Processing Record5 of set 12 | markova\n",
      "Processing Record6 of set 12 | redlands\n",
      "Processing Record7 of set 12 | pangkalanbuun\n",
      "Processing Record8 of set 12 | nizwa\n",
      "Processing Record9 of set 12 | jais\n",
      "Processing Record10 of set 12 | dzhebariki-khaya\n",
      "Processing Record11 of set 12 | conceicao do araguaia\n",
      "Processing Record12 of set 12 | solnechnyy\n",
      "Processing Record13 of set 12 | bukama\n",
      "Processing Record14 of set 12 | alotau\n",
      "City not found. Skipping...\n",
      "Processing Record15 of set 12 | zakupne\n",
      "Processing Record16 of set 12 | chardara\n",
      "Processing Record17 of set 12 | north myrtle beach\n",
      "Processing Record18 of set 12 | nurmijarvi\n",
      "Processing Record19 of set 12 | port macquarie\n",
      "Processing Record20 of set 12 | afyonkarahisar\n",
      "Processing Record21 of set 12 | mikuni\n",
      "Processing Record22 of set 12 | el balyana\n",
      "City not found. Skipping...\n",
      "Processing Record23 of set 12 | ler\n"
     ]
    },
    {
     "name": "stdout",
     "output_type": "stream",
     "text": [
      "Processing Record24 of set 12 | gizo\n",
      "Processing Record25 of set 12 | sistranda\n",
      "Processing Record26 of set 12 | maragogi\n",
      "Processing Record27 of set 12 | west plains\n",
      "Processing Record28 of set 12 | steinbach\n",
      "Processing Record29 of set 12 | iki-burul\n",
      "Processing Record30 of set 12 | alabaster\n",
      "Processing Record31 of set 12 | conde\n",
      "Processing Record32 of set 12 | jumla\n",
      "Processing Record33 of set 12 | eldikan\n",
      "City not found. Skipping...\n",
      "Processing Record34 of set 12 | kirovsk\n",
      "Processing Record35 of set 12 | turangi\n",
      "Processing Record36 of set 12 | vila velha\n",
      "Processing Record37 of set 12 | portales\n",
      "Processing Record38 of set 12 | qaqortoq\n",
      "Processing Record39 of set 12 | jujuy\n",
      "City not found. Skipping...\n",
      "Processing Record40 of set 12 | rosarito\n",
      "Processing Record41 of set 12 | saint-joseph\n",
      "Processing Record42 of set 12 | fairmont\n",
      "Processing Record43 of set 12 | ellisras\n",
      "Processing Record44 of set 12 | gobabis\n",
      "Processing Record45 of set 12 | lavrentiya\n",
      "Processing Record46 of set 12 | vung tau\n",
      "Processing Record47 of set 12 | khorixas\n",
      "Processing Record48 of set 12 | umm lajj\n",
      "Processing Record49 of set 12 | altea\n",
      "Processing Record50 of set 12 | saint-georges\n",
      "Processing Record1 of set 13 | mananjary\n",
      "Processing Record2 of set 13 | xai-xai\n",
      "Processing Record3 of set 13 | bath\n",
      "Processing Record4 of set 13 | seydisehir\n",
      "Processing Record5 of set 13 | kralendijk\n",
      "Processing Record6 of set 13 | natal\n",
      "Processing Record7 of set 13 | goure\n",
      "Processing Record8 of set 13 | tabou\n",
      "Processing Record9 of set 13 | ciuchici\n",
      "Processing Record10 of set 13 | vestmannaeyjar\n",
      "Processing Record11 of set 13 | baoqing\n",
      "Processing Record12 of set 13 | diamantino\n",
      "Processing Record13 of set 13 | najran\n",
      "Processing Record14 of set 13 | san quintin\n",
      "Processing Record15 of set 13 | varna\n",
      "Processing Record16 of set 13 | jinka\n",
      "Processing Record17 of set 13 | mathathane\n",
      "Processing Record18 of set 13 | maloshuyka\n",
      "City not found. Skipping...\n",
      "Processing Record19 of set 13 | kirkenaer\n",
      "Processing Record20 of set 13 | taybad\n",
      "Processing Record21 of set 13 | bubaque\n",
      "Processing Record22 of set 13 | dunmore east\n",
      "Processing Record23 of set 13 | mitu\n",
      "Processing Record24 of set 13 | vitoria da conquista\n"
     ]
    }
   ],
   "source": [
    "set_count = 1\n",
    "record_count = 0\n",
    "for i, city in enumerate (cities):\n",
    "    if i % 50 == 0 and i >= 50:\n",
    "        set_count = set_count +1\n",
    "        record_count = 1\n",
    "    print (f\"Processing Record{record_count} of set {set_count} | {city}\")\n",
    "    record_count = record_count +1\n",
    "    query_url = f\"{base_url}appid={weather_api_key}&units={units}&q={city}\"\n",
    "    response = requests.get(query_url).json()\n",
    "\n",
    "        \n",
    "    try:\n",
    "        City_Name.append(response['name'])\n",
    "        Lat.append(response['coord']['lat'])\n",
    "        Lng.append(response['coord']['lon'])\n",
    "        Max_Temp.append(response['main']['temp_max'])\n",
    "        Humidity.append(response['main']['humidity'])\n",
    "        Cloudiness.append(response['clouds']['all'])\n",
    "        Wind_Speed.append(response['wind']['speed'])\n",
    "        Country.append(response['sys']['country'])\n",
    "        Date.append(response['dt'])\n",
    "    except KeyError:  \n",
    "        print (\"City not found. Skipping...\")\n",
    "            \n",
    "            "
   ]
  },
  {
   "cell_type": "code",
   "execution_count": null,
   "metadata": {
    "scrolled": true
   },
   "outputs": [],
   "source": []
  },
  {
   "cell_type": "markdown",
   "metadata": {},
   "source": [
    "### Convert Raw Data to DataFrame\n",
    "* Export the city data into a .csv.\n",
    "* Display the DataFrame"
   ]
  },
  {
   "cell_type": "code",
   "execution_count": 47,
   "metadata": {},
   "outputs": [],
   "source": [
    "weather_dict ={\"City\":City_Name,\n",
    "\"Lat\":Lat,\n",
    "\"Lng\":Lng,\n",
    "\"Max Temp\":Max_Temp,\n",
    "\"Humidity\":Humidity,\n",
    "\"Cloudiness\":Cloudiness,\n",
    "\"Wind Speed\":Wind_Speed,\n",
    "\"Country\":Country,\n",
    "\"Date\":Date}\n",
    "\n",
    "weather_df=pd.DataFrame(weather_dict)\n",
    "weather_df.head()\n",
    "weather_df.to_csv(output_data_file,index = True)"
   ]
  },
  {
   "cell_type": "code",
   "execution_count": null,
   "metadata": {},
   "outputs": [],
   "source": []
  },
  {
   "cell_type": "code",
   "execution_count": 48,
   "metadata": {},
   "outputs": [
    {
     "data": {
      "text/html": [
       "<div>\n",
       "<style scoped>\n",
       "    .dataframe tbody tr th:only-of-type {\n",
       "        vertical-align: middle;\n",
       "    }\n",
       "\n",
       "    .dataframe tbody tr th {\n",
       "        vertical-align: top;\n",
       "    }\n",
       "\n",
       "    .dataframe thead th {\n",
       "        text-align: right;\n",
       "    }\n",
       "</style>\n",
       "<table border=\"1\" class=\"dataframe\">\n",
       "  <thead>\n",
       "    <tr style=\"text-align: right;\">\n",
       "      <th></th>\n",
       "      <th>Lat</th>\n",
       "      <th>Lng</th>\n",
       "      <th>Max Temp</th>\n",
       "      <th>Humidity</th>\n",
       "      <th>Cloudiness</th>\n",
       "      <th>Wind Speed</th>\n",
       "      <th>Date</th>\n",
       "    </tr>\n",
       "  </thead>\n",
       "  <tbody>\n",
       "    <tr>\n",
       "      <th>count</th>\n",
       "      <td>567.000000</td>\n",
       "      <td>567.000000</td>\n",
       "      <td>567.000000</td>\n",
       "      <td>567.000000</td>\n",
       "      <td>567.000000</td>\n",
       "      <td>567.000000</td>\n",
       "      <td>5.670000e+02</td>\n",
       "    </tr>\n",
       "    <tr>\n",
       "      <th>mean</th>\n",
       "      <td>19.720686</td>\n",
       "      <td>16.310605</td>\n",
       "      <td>60.192734</td>\n",
       "      <td>70.571429</td>\n",
       "      <td>52.805996</td>\n",
       "      <td>6.866102</td>\n",
       "      <td>1.619573e+09</td>\n",
       "    </tr>\n",
       "    <tr>\n",
       "      <th>std</th>\n",
       "      <td>33.570461</td>\n",
       "      <td>89.017789</td>\n",
       "      <td>19.233620</td>\n",
       "      <td>22.477349</td>\n",
       "      <td>40.713657</td>\n",
       "      <td>4.611067</td>\n",
       "      <td>7.779627e+01</td>\n",
       "    </tr>\n",
       "    <tr>\n",
       "      <th>min</th>\n",
       "      <td>-54.800000</td>\n",
       "      <td>-175.200000</td>\n",
       "      <td>7.860000</td>\n",
       "      <td>7.000000</td>\n",
       "      <td>0.000000</td>\n",
       "      <td>0.200000</td>\n",
       "      <td>1.619573e+09</td>\n",
       "    </tr>\n",
       "    <tr>\n",
       "      <th>25%</th>\n",
       "      <td>-8.362250</td>\n",
       "      <td>-58.693500</td>\n",
       "      <td>44.600000</td>\n",
       "      <td>60.000000</td>\n",
       "      <td>6.000000</td>\n",
       "      <td>3.440000</td>\n",
       "      <td>1.619573e+09</td>\n",
       "    </tr>\n",
       "    <tr>\n",
       "      <th>50%</th>\n",
       "      <td>22.690600</td>\n",
       "      <td>23.041200</td>\n",
       "      <td>63.000000</td>\n",
       "      <td>77.000000</td>\n",
       "      <td>66.000000</td>\n",
       "      <td>5.750000</td>\n",
       "      <td>1.619573e+09</td>\n",
       "    </tr>\n",
       "    <tr>\n",
       "      <th>75%</th>\n",
       "      <td>49.577850</td>\n",
       "      <td>91.087600</td>\n",
       "      <td>77.000000</td>\n",
       "      <td>87.500000</td>\n",
       "      <td>95.000000</td>\n",
       "      <td>9.730000</td>\n",
       "      <td>1.619573e+09</td>\n",
       "    </tr>\n",
       "    <tr>\n",
       "      <th>max</th>\n",
       "      <td>78.218600</td>\n",
       "      <td>179.316700</td>\n",
       "      <td>92.350000</td>\n",
       "      <td>100.000000</td>\n",
       "      <td>100.000000</td>\n",
       "      <td>24.160000</td>\n",
       "      <td>1.619573e+09</td>\n",
       "    </tr>\n",
       "  </tbody>\n",
       "</table>\n",
       "</div>"
      ],
      "text/plain": [
       "              Lat         Lng    Max Temp    Humidity  Cloudiness  Wind Speed  \\\n",
       "count  567.000000  567.000000  567.000000  567.000000  567.000000  567.000000   \n",
       "mean    19.720686   16.310605   60.192734   70.571429   52.805996    6.866102   \n",
       "std     33.570461   89.017789   19.233620   22.477349   40.713657    4.611067   \n",
       "min    -54.800000 -175.200000    7.860000    7.000000    0.000000    0.200000   \n",
       "25%     -8.362250  -58.693500   44.600000   60.000000    6.000000    3.440000   \n",
       "50%     22.690600   23.041200   63.000000   77.000000   66.000000    5.750000   \n",
       "75%     49.577850   91.087600   77.000000   87.500000   95.000000    9.730000   \n",
       "max     78.218600  179.316700   92.350000  100.000000  100.000000   24.160000   \n",
       "\n",
       "               Date  \n",
       "count  5.670000e+02  \n",
       "mean   1.619573e+09  \n",
       "std    7.779627e+01  \n",
       "min    1.619573e+09  \n",
       "25%    1.619573e+09  \n",
       "50%    1.619573e+09  \n",
       "75%    1.619573e+09  \n",
       "max    1.619573e+09  "
      ]
     },
     "execution_count": 48,
     "metadata": {},
     "output_type": "execute_result"
    }
   ],
   "source": [
    "weather_df.describe()"
   ]
  },
  {
   "cell_type": "code",
   "execution_count": null,
   "metadata": {},
   "outputs": [],
   "source": []
  },
  {
   "cell_type": "markdown",
   "metadata": {},
   "source": [
    "## Inspect the data and remove the cities where the humidity > 100%.\n",
    "----\n",
    "Skip this step if there are no cities that have humidity > 100%. "
   ]
  },
  {
   "cell_type": "code",
   "execution_count": null,
   "metadata": {},
   "outputs": [],
   "source": []
  },
  {
   "cell_type": "code",
   "execution_count": 49,
   "metadata": {},
   "outputs": [],
   "source": [
    "#  Get the indices of cities that have humidity over 100%.\n"
   ]
  },
  {
   "cell_type": "code",
   "execution_count": 50,
   "metadata": {},
   "outputs": [],
   "source": [
    "# Make a new DataFrame equal to the city data to drop all humidity outliers by index.\n",
    "# Passing \"inplace=False\" will make a copy of the city_data DataFrame, which we call \"clean_city_data\".\n"
   ]
  },
  {
   "cell_type": "code",
   "execution_count": null,
   "metadata": {},
   "outputs": [],
   "source": [
    "\n"
   ]
  },
  {
   "cell_type": "markdown",
   "metadata": {},
   "source": [
    "## Plotting the Data\n",
    "* Use proper labeling of the plots using plot titles (including date of analysis) and axes labels.\n",
    "* Save the plotted figures as .pngs."
   ]
  },
  {
   "cell_type": "markdown",
   "metadata": {},
   "source": [
    "## Latitude vs. Temperature Plot"
   ]
  },
  {
   "cell_type": "code",
   "execution_count": 51,
   "metadata": {},
   "outputs": [
    {
     "data": {
      "image/png": "[encoded data removed]",
      "text/plain": [
       "<Figure size 432x288 with 1 Axes>"
      ]
     },
     "metadata": {
      "needs_background": "light"
     },
     "output_type": "display_data"
    }
   ],
   "source": [
    "x_values = weather_df['Lat']\n",
    "y_values = weather_df['Max Temp']\n",
    "plt.scatter(x_values,y_values)\n",
    "plt.xlabel('Latitude')\n",
    "plt.ylabel('Max Temp')\n",
    "plt.title('City Latitude vs Max Temp (04/27/2021)')\n",
    "plt.show()"
   ]
  },
  {
   "cell_type": "code",
   "execution_count": null,
   "metadata": {},
   "outputs": [],
   "source": []
  },
  {
   "cell_type": "markdown",
   "metadata": {},
   "source": [
    "## Latitude vs. Humidity Plot"
   ]
  },
  {
   "cell_type": "code",
   "execution_count": 52,
   "metadata": {},
   "outputs": [
    {
     "data": {
      "image/png": "[encoded data removed]",
      "text/plain": [
       "<Figure size 432x288 with 1 Axes>"
      ]
     },
     "metadata": {
      "needs_background": "light"
     },
     "output_type": "display_data"
    }
   ],
   "source": [
    "x_values = weather_df['Lat']\n",
    "y_values = weather_df['Humidity']\n",
    "plt.scatter(x_values,y_values)\n",
    "plt.xlabel('Latitude')\n",
    "plt.ylabel('Humidity %')\n",
    "plt.title('City Latitude vs Humidity (04/27/2021)')\n",
    "plt.show()"
   ]
  },
  {
   "cell_type": "markdown",
   "metadata": {},
   "source": [
    "## Latitude vs. Cloudiness Plot"
   ]
  },
  {
   "cell_type": "code",
   "execution_count": 53,
   "metadata": {},
   "outputs": [
    {
     "data": {
      "image/png": "[encoded data removed]",
      "text/plain": [
       "<Figure size 432x288 with 1 Axes>"
      ]
     },
     "metadata": {
      "needs_background": "light"
     },
     "output_type": "display_data"
    }
   ],
   "source": [
    "x_values = weather_df['Lat']\n",
    "y_values = weather_df['Cloudiness']\n",
    "plt.scatter(x_values,y_values)\n",
    "plt.xlabel('Latitude')\n",
    "plt.ylabel('Cloudiness')\n",
    "plt.title('City Latitude vs Cloudinessy (04/27/2021)')\n",
    "plt.show()"
   ]
  },
  {
   "cell_type": "markdown",
   "metadata": {},
   "source": [
    "## Latitude vs. Wind Speed Plot"
   ]
  },
  {
   "cell_type": "code",
   "execution_count": 54,
   "metadata": {},
   "outputs": [
    {
     "data": {
      "image/png": "[encoded data removed]",
      "text/plain": [
       "<Figure size 432x288 with 1 Axes>"
      ]
     },
     "metadata": {
      "needs_background": "light"
     },
     "output_type": "display_data"
    }
   ],
   "source": [
    "x_values = weather_df['Lat']\n",
    "y_values = weather_df['Wind Speed']\n",
    "plt.scatter(x_values,y_values)\n",
    "plt.xlabel('Latitude')\n",
    "plt.ylabel('Wind Speed')\n",
    "plt.title('City Latitude vs Wind Speed (04/27/2021)')\n",
    "plt.show()"
   ]
  },
  {
   "cell_type": "markdown",
   "metadata": {},
   "source": [
    "## Linear Regression"
   ]
  },
  {
   "cell_type": "markdown",
   "metadata": {},
   "source": [
    "####  Northern Hemisphere - Max Temp vs. Latitude Linear Regression"
   ]
  },
  {
   "cell_type": "code",
   "execution_count": 55,
   "metadata": {},
   "outputs": [
    {
     "name": "stdout",
     "output_type": "stream",
     "text": [
      "The r-squared is: 0.7950612791246415\n"
     ]
    },
    {
     "data": {
      "image/png": "[encoded data removed]",
      "text/plain": [
       "<Figure size 432x288 with 1 Axes>"
      ]
     },
     "metadata": {
      "needs_background": "light"
     },
     "output_type": "display_data"
    }
   ],
   "source": [
    "weather_df = pd.DataFrame(weather_dict)\n",
    "northern_hemi_df = weather_df.loc[(weather_df[\"Lat\"] >= 0)]\n",
    "x_values = northern_hemi_df['Lat']\n",
    "y_values = northern_hemi_df['Max Temp']\n",
    "(slope, intercept, rvalue, pvalue, stderr) = linregress(x_values, y_values)\n",
    "regress_values = x_values * slope + intercept\n",
    "line_eq = \"y = \" + str(round(slope,2)) + \"x + \" + str(round(intercept,2))\n",
    "plt.scatter(x_values,y_values)\n",
    "plt.plot(x_values,regress_values,\"r-\")\n",
    "plt.annotate(line_eq,(6,10),fontsize=15,color=\"red\")\n",
    "plt.xlabel('Latitude')\n",
    "plt.ylabel('Max Temp')\n",
    "print(f\"The r-squared is: {rvalue**2}\")\n",
    "plt.show()\n",
    "\n",
    "\n",
    "#Northen Hemisphere (greater than or equal to 0 degrees latitude <= 0 degrees)\n",
    "#Southern Hemisphere (less than 0 degrees latitude >= 0 degrees)"
   ]
  },
  {
   "cell_type": "markdown",
   "metadata": {},
   "source": [
    "####  Southern Hemisphere - Max Temp vs. Latitude Linear Regression"
   ]
  },
  {
   "cell_type": "code",
   "execution_count": 62,
   "metadata": {},
   "outputs": [
    {
     "name": "stdout",
     "output_type": "stream",
     "text": [
      "The r-squared is: 0.5237498992145341\n"
     ]
    },
    {
     "data": {
      "image/png": "[encoded data removed]",
      "text/plain": [
       "<Figure size 432x288 with 1 Axes>"
      ]
     },
     "metadata": {
      "needs_background": "light"
     },
     "output_type": "display_data"
    }
   ],
   "source": [
    "weather_df = pd.DataFrame(weather_dict)\n",
    "southern_hemi_df = weather_df.loc[(weather_df[\"Lat\"] < 0)]\n",
    "x_values = southern_hemi_df['Lat']\n",
    "y_values = southern_hemi_df['Max Temp']\n",
    "(slope, intercept, rvalue, pvalue, stderr) = linregress(x_values, y_values)\n",
    "regress_values = x_values * slope + intercept\n",
    "line_eq = \"y = \" + str(round(slope,2)) + \"x + \" + str(round(intercept,2))\n",
    "plt.scatter(x_values,y_values)\n",
    "plt.plot(x_values,regress_values,\"r-\")\n",
    "plt.annotate(line_eq,(6,10),fontsize=15,color=\"red\")\n",
    "plt.xlabel('Latitude')\n",
    "plt.ylabel('Max Temp')\n",
    "print(f\"The r-squared is: {rvalue**2}\")\n",
    "plt.show()"
   ]
  },
  {
   "cell_type": "markdown",
   "metadata": {},
   "source": [
    "####  Northern Hemisphere - Humidity (%) vs. Latitude Linear Regression"
   ]
  },
  {
   "cell_type": "code",
   "execution_count": 56,
   "metadata": {},
   "outputs": [
    {
     "name": "stdout",
     "output_type": "stream",
     "text": [
      "The r-squared is: 0.011176210596062578\n"
     ]
    },
    {
     "data": {
      "image/png": "[encoded data removed]",
      "text/plain": [
       "<Figure size 432x288 with 1 Axes>"
      ]
     },
     "metadata": {
      "needs_background": "light"
     },
     "output_type": "display_data"
    }
   ],
   "source": [
    "weather_df = pd.DataFrame(weather_dict)\n",
    "northern_hemi_df = weather_df.loc[(weather_df[\"Lat\"] >= 0)]\n",
    "x_values = northern_hemi_df['Lat']\n",
    "y_values = northern_hemi_df['Humidity']\n",
    "(slope, intercept, rvalue, pvalue, stderr) = linregress(x_values, y_values)\n",
    "regress_values = x_values * slope + intercept\n",
    "line_eq = \"y = \" + str(round(slope,2)) + \"x + \" + str(round(intercept,2))\n",
    "plt.scatter(x_values,y_values)\n",
    "plt.plot(x_values,regress_values,\"r-\")\n",
    "plt.annotate(line_eq,(6,10),fontsize=15,color=\"red\")\n",
    "plt.xlabel('Latitude')\n",
    "plt.ylabel('Humidity %')\n",
    "print(f\"The r-squared is: {rvalue**2}\")\n",
    "plt.show()"
   ]
  },
  {
   "cell_type": "markdown",
   "metadata": {},
   "source": [
    "####  Southern Hemisphere - Humidity (%) vs. Latitude Linear Regression"
   ]
  },
  {
   "cell_type": "code",
   "execution_count": 57,
   "metadata": {},
   "outputs": [
    {
     "name": "stdout",
     "output_type": "stream",
     "text": [
      "The r-squared is: 0.015869784878414155\n"
     ]
    },
    {
     "data": {
      "image/png": "[encoded data removed]",
      "text/plain": [
       "<Figure size 432x288 with 1 Axes>"
      ]
     },
     "metadata": {
      "needs_background": "light"
     },
     "output_type": "display_data"
    }
   ],
   "source": [
    "weather_df = pd.DataFrame(weather_dict)\n",
    "southern_hemi_df = weather_df.loc[(weather_df[\"Lat\"] < 0)]\n",
    "x_values = southern_hemi_df['Lat']\n",
    "y_values = southern_hemi_df['Humidity']\n",
    "(slope, intercept, rvalue, pvalue, stderr) = linregress(x_values, y_values)\n",
    "regress_values = x_values * slope + intercept\n",
    "line_eq = \"y = \" + str(round(slope,2)) + \"x + \" + str(round(intercept,2))\n",
    "plt.scatter(x_values,y_values)\n",
    "plt.plot(x_values,regress_values,\"r-\")\n",
    "plt.annotate(line_eq,(6,10),fontsize=15,color=\"red\")\n",
    "plt.xlabel('Latitude')\n",
    "plt.ylabel('Humidity %')\n",
    "print(f\"The r-squared is: {rvalue**2}\")\n",
    "plt.show()"
   ]
  },
  {
   "cell_type": "markdown",
   "metadata": {},
   "source": [
    "####  Northern Hemisphere - Cloudiness (%) vs. Latitude Linear Regression"
   ]
  },
  {
   "cell_type": "code",
   "execution_count": 58,
   "metadata": {},
   "outputs": [
    {
     "name": "stdout",
     "output_type": "stream",
     "text": [
      "The r-squared is: 0.008849279104886152\n"
     ]
    },
    {
     "data": {
      "image/png": "[encoded data removed]",
      "text/plain": [
       "<Figure size 432x288 with 1 Axes>"
      ]
     },
     "metadata": {
      "needs_background": "light"
     },
     "output_type": "display_data"
    }
   ],
   "source": [
    "weather_df = pd.DataFrame(weather_dict)\n",
    "northern_hemi_df = weather_df.loc[(weather_df[\"Lat\"] >= 0)]\n",
    "x_values = northern_hemi_df['Lat']\n",
    "y_values = northern_hemi_df['Cloudiness']\n",
    "(slope, intercept, rvalue, pvalue, stderr) = linregress(x_values, y_values)\n",
    "regress_values = x_values * slope + intercept\n",
    "line_eq = \"y = \" + str(round(slope,2)) + \"x + \" + str(round(intercept,2))\n",
    "plt.scatter(x_values,y_values)\n",
    "plt.plot(x_values,regress_values,\"r-\")\n",
    "plt.annotate(line_eq,(6,10),fontsize=15,color=\"red\")\n",
    "plt.xlabel('Latitude')\n",
    "plt.ylabel('Cloudiness')\n",
    "print(f\"The r-squared is: {rvalue**2}\")\n",
    "plt.show()"
   ]
  },
  {
   "cell_type": "markdown",
   "metadata": {},
   "source": [
    "####  Southern Hemisphere - Cloudiness (%) vs. Latitude Linear Regression"
   ]
  },
  {
   "cell_type": "code",
   "execution_count": 59,
   "metadata": {},
   "outputs": [
    {
     "name": "stdout",
     "output_type": "stream",
     "text": [
      "The r-squared is: 0.002360277097378768\n"
     ]
    },
    {
     "data": {
      "image/png": "[encoded data removed]",
      "text/plain": [
       "<Figure size 432x288 with 1 Axes>"
      ]
     },
     "metadata": {
      "needs_background": "light"
     },
     "output_type": "display_data"
    }
   ],
   "source": [
    "weather_df = pd.DataFrame(weather_dict)\n",
    "southern_hemi_df = weather_df.loc[(weather_df[\"Lat\"] < 0)]\n",
    "x_values = southern_hemi_df['Lat']\n",
    "y_values = southern_hemi_df['Cloudiness']\n",
    "(slope, intercept, rvalue, pvalue, stderr) = linregress(x_values, y_values)\n",
    "regress_values = x_values * slope + intercept\n",
    "line_eq = \"y = \" + str(round(slope,2)) + \"x + \" + str(round(intercept,2))\n",
    "plt.scatter(x_values,y_values)\n",
    "plt.plot(x_values,regress_values,\"r-\")\n",
    "plt.annotate(line_eq,(6,10),fontsize=15,color=\"red\")\n",
    "plt.xlabel('Latitude')\n",
    "plt.ylabel('Cloudiness')\n",
    "print(f\"The r-squared is: {rvalue**2}\")\n",
    "plt.show()"
   ]
  },
  {
   "cell_type": "markdown",
   "metadata": {},
   "source": [
    "####  Northern Hemisphere - Wind Speed (mph) vs. Latitude Linear Regression"
   ]
  },
  {
   "cell_type": "code",
   "execution_count": 60,
   "metadata": {},
   "outputs": [
    {
     "name": "stdout",
     "output_type": "stream",
     "text": [
      "The r-squared is: 0.0001377555723613746\n"
     ]
    },
    {
     "data": {
      "image/png": "[encoded data removed]",
      "text/plain": [
       "<Figure size 432x288 with 1 Axes>"
      ]
     },
     "metadata": {
      "needs_background": "light"
     },
     "output_type": "display_data"
    }
   ],
   "source": [
    "weather_df = pd.DataFrame(weather_dict)\n",
    "northern_hemi_df = weather_df.loc[(weather_df[\"Lat\"] >= 0)]\n",
    "x_values = northern_hemi_df['Lat']\n",
    "y_values = northern_hemi_df['Wind Speed']\n",
    "(slope, intercept, rvalue, pvalue, stderr) = linregress(x_values, y_values)\n",
    "regress_values = x_values * slope + intercept\n",
    "line_eq = \"y = \" + str(round(slope,2)) + \"x + \" + str(round(intercept,2))\n",
    "plt.scatter(x_values,y_values)\n",
    "plt.plot(x_values,regress_values,\"r-\")\n",
    "plt.annotate(line_eq,(6,10),fontsize=15,color=\"red\")\n",
    "plt.xlabel('Latitude')\n",
    "plt.ylabel('Wind Speed')\n",
    "print(f\"The r-squared is: {rvalue**2}\")\n",
    "plt.show()"
   ]
  },
  {
   "cell_type": "markdown",
   "metadata": {},
   "source": [
    "####  Southern Hemisphere - Wind Speed (mph) vs. Latitude Linear Regression"
   ]
  },
  {
   "cell_type": "code",
   "execution_count": 61,
   "metadata": {},
   "outputs": [
    {
     "name": "stdout",
     "output_type": "stream",
     "text": [
      "The r-squared is: 0.07830953999471017\n"
     ]
    },
    {
     "data": {
      "image/png": "[encoded data removed]",
      "text/plain": [
       "<Figure size 432x288 with 1 Axes>"
      ]
     },
     "metadata": {
      "needs_background": "light"
     },
     "output_type": "display_data"
    }
   ],
   "source": [
    "weather_df = pd.DataFrame(weather_dict)\n",
    "southern_hemi_df = weather_df.loc[(weather_df[\"Lat\"] < 0)]\n",
    "x_values = southern_hemi_df['Lat']\n",
    "y_values = southern_hemi_df['Wind Speed']\n",
    "(slope, intercept, rvalue, pvalue, stderr) = linregress(x_values, y_values)\n",
    "regress_values = x_values * slope + intercept\n",
    "line_eq = \"y = \" + str(round(slope,2)) + \"x + \" + str(round(intercept,2))\n",
    "plt.scatter(x_values,y_values)\n",
    "plt.plot(x_values,regress_values,\"r-\")\n",
    "plt.annotate(line_eq,(6,10),fontsize=15,color=\"red\")\n",
    "plt.xlabel('Latitude')\n",
    "plt.ylabel('Wind Speed')\n",
    "print(f\"The r-squared is: {rvalue**2}\")\n",
    "plt.show()"
   ]
  },
  {
   "cell_type": "code",
   "execution_count": null,
   "metadata": {},
   "outputs": [],
   "source": []
  }
 ],
 "metadata": {
  "anaconda-cloud": {},
  "kernel_info": {
   "name": "python3"
  },
  "kernelspec": {
   "display_name": "Python 3",
   "language": "python",
   "name": "python3"
  },
  "language_info": {
   "codemirror_mode": {
    "name": "ipython",
    "version": 3
   },
   "file_extension": ".py",
   "mimetype": "text/x-python",
   "name": "python",
   "nbconvert_exporter": "python",
   "pygments_lexer": "ipython3",
   "version": "3.8.5"
  },
  "latex_envs": {
   "LaTeX_envs_menu_present": true,
   "autoclose": false,
   "autocomplete": true,
   "bibliofile": "biblio.bib",
   "cite_by": "apalike",
   "current_citInitial": 1,
   "eqLabelWithNumbers": true,
   "eqNumInitial": 1,
   "hotkeys": {
    "equation": "Ctrl-E",
    "itemize": "Ctrl-I"
   },
   "labels_anchors": false,
   "latex_user_defs": false,
   "report_style_numbering": false,
   "user_envs_cfg": false
  },
  "nteract": {
   "version": "0.12.3"
  }
 },
 "nbformat": 4,
 "nbformat_minor": 2
}
